{
 "cells": [
  {
   "cell_type": "code",
   "execution_count": null,
   "metadata": {
    "scrolled": false
   },
   "outputs": [
    {
     "name": "stdout",
     "output_type": "stream",
     "text": [
      "WARNING:tensorflow:sample_weight modes were coerced from\n",
      "  ...\n",
      "    to  \n",
      "  ['...']\n",
      "Train for 427 steps\n",
      "Epoch 1/20\n",
      "427/427 [==============================] - 20s 48ms/step - loss: 7.0836 - accuracy: 0.0144\n",
      "Epoch 2/20\n",
      "427/427 [==============================] - 20s 47ms/step - loss: 6.4864 - accuracy: 0.0393\n",
      "Epoch 3/20\n",
      "427/427 [==============================] - 20s 47ms/step - loss: 6.2360 - accuracy: 0.0818\n",
      "Epoch 4/20\n",
      "427/427 [==============================] - 20s 47ms/step - loss: 5.8969 - accuracy: 0.1374\n",
      "Epoch 5/20\n",
      "427/427 [==============================] - 20s 47ms/step - loss: 5.5344 - accuracy: 0.1915\n",
      "Epoch 6/20\n",
      "427/427 [==============================] - 20s 47ms/step - loss: 5.3254 - accuracy: 0.2441\n",
      "Epoch 7/20\n",
      "427/427 [==============================] - 20s 47ms/step - loss: 5.0685 - accuracy: 0.2834\n",
      "Epoch 8/20\n",
      "427/427 [==============================] - 20s 47ms/step - loss: 5.0876 - accuracy: 0.31251s - los\n",
      "Epoch 9/20\n",
      "427/427 [==============================] - 20s 47ms/step - loss: 4.8476 - accuracy: 0.3327\n",
      "Epoch 10/20\n",
      "427/427 [==============================] - 20s 47ms/step - loss: 4.7559 - accuracy: 0.3497\n",
      "Epoch 11/20\n",
      "427/427 [==============================] - 20s 48ms/step - loss: 4.6713 - accuracy: 0.3682\n",
      "Epoch 12/20\n",
      "427/427 [==============================] - ETA: 0s - loss: 4.6407 - accuracy: 0.38 - 20s 47ms/step - loss: 4.6417 - accuracy: 0.3878\n",
      "Epoch 13/20\n",
      "427/427 [==============================] - 20s 47ms/step - loss: 4.4621 - accuracy: 0.4122\n",
      "Epoch 14/20\n",
      "427/427 [==============================] - 20s 47ms/step - loss: 4.4197 - accuracy: 0.4168\n",
      "Epoch 15/20\n",
      "427/427 [==============================] - 20s 46ms/step - loss: 4.4243 - accuracy: 0.4211\n",
      "Epoch 16/20\n",
      "427/427 [==============================] - 20s 46ms/step - loss: 4.4377 - accuracy: 0.4275\n",
      "Epoch 17/20\n",
      "427/427 [==============================] - 20s 46ms/step - loss: 4.2994 - accuracy: 0.4396\n",
      "Epoch 18/20\n",
      "427/427 [==============================] - 20s 47ms/step - loss: 4.3084 - accuracy: 0.4538\n",
      "Epoch 19/20\n",
      "427/427 [==============================] - 20s 47ms/step - loss: 3.8951 - accuracy: 0.4747\n",
      "Epoch 20/20\n",
      "161/427 [==========>...................] - ETA: 12s - loss: 4.0670 - accuracy: 0.4811- ETA: 14s - loss: 4"
     ]
    }
   ],
   "source": [
    "import pickle\n",
    "import numpy as np\n",
    "from tensorflow.keras.preprocessing.image import ImageDataGenerator\n",
    "from tensorflow.keras.models import Sequential\n",
    "from tensorflow.keras.layers import Dense, Dropout, Activation, Flatten, Conv2D, MaxPooling2D\n",
    "\n",
    "pickle_in = open(\"X.pickle\",\"rb\")\n",
    "X = pickle.load(pickle_in)\n",
    "\n",
    "pickle_in = open(\"y.pickle\",\"rb\")\n",
    "y = pickle.load(pickle_in)\n",
    "\n",
    "y = np.array(y)\n",
    "X = X/255.0\n",
    "\n",
    "datagen = ImageDataGenerator(\n",
    "    validation_split=0.2,\n",
    "    rotation_range=20,\n",
    "    zoom_range=0.2,\n",
    "    width_shift_range=0.2,\n",
    "    height_shift_range=0.2,\n",
    "    horizontal_flip=True\n",
    ")\n",
    "\n",
    "model = Sequential()\n",
    "\n",
    "model.add(Conv2D(32, (3, 3), padding=\"same\", input_shape=X.shape[1:]))\n",
    "model.add(Activation('relu'))\n",
    "model.add(MaxPooling2D(pool_size=(2, 2)))\n",
    "model.add(Dropout(0.2))\n",
    "\n",
    "model.add(Conv2D(64, (3, 3), padding=\"same\"))\n",
    "model.add(Activation('relu'))\n",
    "model.add(MaxPooling2D(pool_size=(2, 2)))\n",
    "model.add(Dropout(0.2))\n",
    "\n",
    "model.add(Conv2D(128, (3, 3), padding=\"same\"))\n",
    "model.add(Activation('relu'))\n",
    "model.add(MaxPooling2D(pool_size=(2, 2)))\n",
    "model.add(Dropout(0.2))\n",
    "\n",
    "model.add(Conv2D(256, (3, 3), padding=\"same\"))\n",
    "model.add(Activation('relu'))\n",
    "model.add(MaxPooling2D(pool_size=(2, 2)))\n",
    "model.add(Dropout(0.2))\n",
    "\n",
    "model.add(Conv2D(512, (3, 3), padding=\"same\"))\n",
    "model.add(Activation('relu'))\n",
    "model.add(MaxPooling2D(pool_size=(2, 2)))\n",
    "model.add(Dropout(0.2))\n",
    "\n",
    "model.add(Flatten())\n",
    "\n",
    "model.add(Dense(1024))\n",
    "model.add(Activation('softmax'))\n",
    "model.add(Dropout(0.2))\n",
    "\n",
    "model.compile(loss='sparse_categorical_crossentropy', optimizer='adam', metrics=['accuracy'])\n",
    "\n",
    "model.fit(datagen.flow(X, y, batch_size=16), epochs=20)"
   ]
  },
  {
   "cell_type": "code",
   "execution_count": 2,
   "metadata": {},
   "outputs": [
    {
     "name": "stdout",
     "output_type": "stream",
     "text": [
      "WARNING:tensorflow:From c:\\users\\manvi\\appdata\\local\\programs\\python\\python37\\lib\\site-packages\\tensorflow_core\\python\\ops\\resource_variable_ops.py:1786: calling BaseResourceVariable.__init__ (from tensorflow.python.ops.resource_variable_ops) with constraint is deprecated and will be removed in a future version.\n",
      "Instructions for updating:\n",
      "If using Keras pass *_constraint arguments to layers.\n",
      "INFO:tensorflow:Assets written to: model.model\\assets\n"
     ]
    }
   ],
   "source": [
    "model.save('model.model')"
   ]
  },
  {
   "cell_type": "code",
   "execution_count": null,
   "metadata": {},
   "outputs": [],
   "source": []
  }
 ],
 "metadata": {
  "kernelspec": {
   "display_name": "Python 3",
   "language": "python",
   "name": "python3"
  },
  "language_info": {
   "codemirror_mode": {
    "name": "ipython",
    "version": 3
   },
   "file_extension": ".py",
   "mimetype": "text/x-python",
   "name": "python",
   "nbconvert_exporter": "python",
   "pygments_lexer": "ipython3",
   "version": "3.7.4"
  }
 },
 "nbformat": 4,
 "nbformat_minor": 4
}
